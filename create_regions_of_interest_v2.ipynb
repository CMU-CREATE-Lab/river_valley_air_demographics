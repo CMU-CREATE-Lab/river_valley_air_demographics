{
 "cells": [
  {
   "cell_type": "code",
   "execution_count": null,
   "metadata": {},
   "outputs": [],
   "source": [
    "from utils import epsql\n",
    "import pandas as pd\n",
    "pd.options.display.max_columns = 100\n",
    "engine = epsql.Engine()"
   ]
  },
  {
   "cell_type": "code",
   "execution_count": null,
   "metadata": {},
   "outputs": [],
   "source": [
    "# Capture river centerlines\n",
    "\n",
    "river_names = ['Ohio River', 'Allegheny River', 'Monongahela River', 'Youghiogheny River', 'Beaver River']\n",
    "# Join river_names into a single string, with single quotes around each name\n",
    "rivers = ', '.join([f\"'{name}'\" for name in river_names])\n",
    "gdf = engine.execute_returning_gdf(f\"select st_linemerge(way) from planet_osm_line where waterway='river' and name in ({rivers});\", geom_col='st_linemerge')\n",
    "print(len(gdf))\n",
    "gdf.explore()"
   ]
  },
  {
   "cell_type": "code",
   "execution_count": null,
   "metadata": {},
   "outputs": [],
   "source": []
  }
 ],
 "metadata": {
  "kernelspec": {
   "display_name": ".venv",
   "language": "python",
   "name": "python3"
  },
  "language_info": {
   "codemirror_mode": {
    "name": "ipython",
    "version": 3
   },
   "file_extension": ".py",
   "mimetype": "text/x-python",
   "name": "python",
   "nbconvert_exporter": "python",
   "pygments_lexer": "ipython3",
   "version": "3.11.1"
  },
  "vscode": {
   "interpreter": {
    "hash": "95426bf2c4d2107b7b57db2ae7c780af88169b71dce15b9ae932fcb5809fabc1"
   }
  }
 },
 "nbformat": 4,
 "nbformat_minor": 2
}
