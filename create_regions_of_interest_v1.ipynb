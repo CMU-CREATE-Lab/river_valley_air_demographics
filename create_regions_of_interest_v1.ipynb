{
 "cells": [
  {
   "cell_type": "code",
   "execution_count": null,
   "metadata": {},
   "outputs": [],
   "source": [
    "# Create regions of interest version 1\n",
    "# Uses hand-drawn centerlines extended into some industrial areas manually\n",
    "\n",
    "import os\n",
    "import utils.epsql as epsql\n",
    "import sqlalchemy\n",
    "import numpy as np\n",
    "\n",
    "engine = epsql.Engine()\n"
   ]
  },
  {
   "cell_type": "code",
   "execution_count": null,
   "metadata": {},
   "outputs": [],
   "source": [
    "blocks2010 = \"tiger_wgs84.tl_2010_tabblock10\"\n",
    "engine.execute_returning_gdf(f\"select * from {blocks2010} limit 1\")"
   ]
  },
  {
   "cell_type": "code",
   "execution_count": null,
   "metadata": {},
   "outputs": [],
   "source": [
    "river_segs = \"pollution_demographics.river_segments\"\n",
    "engine.execute_returning_gdf(f\"select * from {river_segs}\")"
   ]
  },
  {
   "cell_type": "code",
   "execution_count": null,
   "metadata": {},
   "outputs": [],
   "source": [
    "def river_blocks(name, buffer_in_miles):\n",
    "  buffer_in_meters = buffer_in_miles * 1609.34\n",
    "  df = engine.execute_returning_df(f\"\"\"\n",
    "  create or replace function pg_temp.geoid10f ()\n",
    "  returns table (txt text)\n",
    "  language plpgsql\n",
    "  as\n",
    "  $$\n",
    "  declare\n",
    "    river geometry;\n",
    "  begin\n",
    "    select st_union(geom) into river from {river_segs} where name='{name}';\n",
    "    river := st_buffer(river::geography, {buffer_in_meters})::geometry;\n",
    "    return query \n",
    "      select geoid10 from {blocks2010} where st_intersects(geom, river) and (st_area(st_intersection(geom, river))/st_area(geom)) > 0.5;\n",
    "  end;\n",
    "  $$;\n",
    "\n",
    "  select pg_temp.geoid10f();\n",
    "  \"\"\")\n",
    "  \n",
    "  ret =  list(df.iloc[:, 0])\n",
    "  print(f\"river_blocks('{name}', {buffer_in_miles}) returns {len(ret)} blocks)\")\n",
    "\n",
    "  return ret\n",
    "\n",
    "\n",
    "buffer_in_miles = 1\n",
    "\n",
    "cancer_alley = river_blocks('Cancer_Alley', buffer_in_miles)\n",
    "allegheny_to_harrison = river_blocks('Allegheny_to_Harrison', buffer_in_miles)\n",
    "mon_to_wheeling = river_blocks('Mon_River_to_Wheeling', buffer_in_miles)\n",
    "ohio_river = river_blocks('Ohio_River', buffer_in_miles)\n",
    "\n",
    "buffer_in_miles = 2\n",
    "\n",
    "cancer_alley_2 = river_blocks('Cancer_Alley', buffer_in_miles)\n",
    "allegheny_to_harrison_2 = river_blocks('Allegheny_to_Harrison', buffer_in_miles)\n",
    "mon_to_wheeling_2 = river_blocks('Mon_River_to_Wheeling', buffer_in_miles)\n",
    "ohio_river_2 = river_blocks('Ohio_River', buffer_in_miles)"
   ]
  },
  {
   "cell_type": "code",
   "execution_count": null,
   "metadata": {},
   "outputs": [],
   "source": [
    "import json\n",
    "block_geoids_2010 = json.load(open('/projects/earthtime/census/block_geoids_2010.json'))\n",
    "\n",
    "geoid2idx = {}\n",
    "for i in range(0, len(block_geoids_2010)):\n",
    "    geoid2idx[block_geoids_2010[i]] = i+1"
   ]
  },
  {
   "cell_type": "code",
   "execution_count": null,
   "metadata": {},
   "outputs": [],
   "source": [
    "def convert_geoids_to_block_vector_and_write(geoids, filename):\n",
    "    col = np.zeros(len(block_geoids_2010)+1, dtype=np.float32)\n",
    "    for geoid in geoids:\n",
    "        col[geoid2idx[geoid]] = 1.0\n",
    "    col.tofile(filename)\n",
    "    print(f\"Put {len(geoids)} 1s into vector, with sum {col.sum()}.  Wrote to {filename}, with length {os.path.getsize(filename)}\")\n",
    "\n",
    "    return \n",
    "\n",
    "convert_geoids_to_block_vector_and_write(cancer_alley, \"columns/cancer_alley_1m.float32\")\n",
    "convert_geoids_to_block_vector_and_write(allegheny_to_harrison, \"columns/allegheny_to_harrison_1m.float32\")\n",
    "convert_geoids_to_block_vector_and_write(mon_to_wheeling, \"columns/mon_to_wheeling_1m.float32\")\n",
    "convert_geoids_to_block_vector_and_write(ohio_river, \"columns/ohio_river_1m.float32\")\n",
    "convert_geoids_to_block_vector_and_write(set(cancer_alley)|set(allegheny_to_harrison)|set(mon_to_wheeling)|set(ohio_river), \"columns/river_valleys_1m.float32\")\n",
    "\n",
    "convert_geoids_to_block_vector_and_write(cancer_alley_2, \"columns/cancer_alley_2m.float32\")\n",
    "convert_geoids_to_block_vector_and_write(allegheny_to_harrison_2, \"columns/allegheny_to_harrison_2m.float32\")\n",
    "convert_geoids_to_block_vector_and_write(mon_to_wheeling_2, \"columns/mon_to_wheeling_2m.float32\")\n",
    "convert_geoids_to_block_vector_and_write(ohio_river_2, \"columns/ohio_river_2m.float32\")\n",
    "convert_geoids_to_block_vector_and_write(set(cancer_alley_2)|set(allegheny_to_harrison_2)|set(mon_to_wheeling_2)|set(ohio_river_2), \"columns/river_valleys_2m.float32\")\n"
   ]
  },
  {
   "cell_type": "code",
   "execution_count": null,
   "metadata": {},
   "outputs": [],
   "source": [
    "!rsync -av columns/ hal15.andrew.cmu.edu:uwsgi/dotmaptiles-data/server/columncache/air_demographics"
   ]
  },
  {
   "cell_type": "code",
   "execution_count": null,
   "metadata": {},
   "outputs": [],
   "source": []
  },
  {
   "cell_type": "code",
   "execution_count": null,
   "metadata": {},
   "outputs": [],
   "source": []
  },
  {
   "cell_type": "code",
   "execution_count": null,
   "metadata": {},
   "outputs": [],
   "source": []
  },
  {
   "cell_type": "code",
   "execution_count": null,
   "metadata": {},
   "outputs": [],
   "source": []
  },
  {
   "cell_type": "code",
   "execution_count": null,
   "metadata": {},
   "outputs": [],
   "source": [
    "engine.execute_returning_gdf(\"select st_area(geom) from pollution_demographics.river_segments where name='Ohio_River'\")"
   ]
  },
  {
   "cell_type": "code",
   "execution_count": null,
   "metadata": {},
   "outputs": [],
   "source": [
    "#engine.execute_returning_gdf(f\"select * from {blocks2010} where geom within \")"
   ]
  }
 ],
 "metadata": {
  "kernelspec": {
   "display_name": ".venv",
   "language": "python",
   "name": "python3"
  },
  "language_info": {
   "codemirror_mode": {
    "name": "ipython",
    "version": 3
   },
   "file_extension": ".py",
   "mimetype": "text/x-python",
   "name": "python",
   "nbconvert_exporter": "python",
   "pygments_lexer": "ipython3",
   "version": "3.11.1"
  },
  "vscode": {
   "interpreter": {
    "hash": "0c04af1d77e99b773c29bfb9e1f26287cc670a47b7440d7220b92ae2bbce1d99"
   }
  }
 },
 "nbformat": 4,
 "nbformat_minor": 2
}
